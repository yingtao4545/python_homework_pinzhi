{
 "cells": [
  {
   "cell_type": "code",
   "execution_count": 37,
   "id": "a885f069",
   "metadata": {},
   "outputs": [
    {
     "name": "stdout",
     "output_type": "stream",
     "text": [
      "[(10, 20), (10, 30), (10, 40), (10, 50), (10, 60), (10, 70), (10, 80), (10, 90), (10, 100), (20, 30), (20, 40), (20, 50), (20, 60), (20, 70), (20, 80), (20, 90), (20, 100), (30, 40), (30, 50), (30, 60), (30, 70), (30, 80), (30, 90), (30, 100), (40, 50), (40, 60), (40, 70), (40, 80), (40, 90), (40, 100), (50, 60), (50, 70), (50, 80), (50, 90), (50, 100), (60, 70), (60, 80), (60, 90), (60, 100), (70, 80), (70, 90), (70, 100), (80, 90), (80, 100), (90, 100)]\n"
     ]
    }
   ],
   "source": [
    "# 1.给一个范围和步长，自动生成一连串移动平均线策略的参数列表，如[(10, 20), (20, 50), (30, 40), …..]\n",
    "# 方法一\n",
    "start = 10; stop = 100;  step = 10;\n",
    "li = []\n",
    "for i in range(start, stop, step):\n",
    "    a=i\n",
    "    for n in range(1, 10): \n",
    "        b=a+n*step\n",
    "        tup=a,b\n",
    "#         print (tup)\n",
    "        li.append(tup)\n",
    "        if b>=100:\n",
    "            break\n",
    "print(li)"
   ]
  },
  {
   "cell_type": "code",
   "execution_count": 27,
   "id": "5b03acb7",
   "metadata": {},
   "outputs": [
    {
     "name": "stdout",
     "output_type": "stream",
     "text": [
      "[(10, 20), (10, 30), (10, 40), (10, 50), (10, 60), (10, 70), (10, 80), (10, 90), (10, 100)]\n",
      "[(20, 30), (20, 40), (20, 50), (20, 60), (20, 70), (20, 80), (20, 90), (20, 100)]\n",
      "[(30, 40), (30, 50), (30, 60), (30, 70), (30, 80), (30, 90), (30, 100)]\n",
      "[(40, 50), (40, 60), (40, 70), (40, 80), (40, 90), (40, 100)]\n",
      "[(50, 60), (50, 70), (50, 80), (50, 90), (50, 100)]\n",
      "[(60, 70), (60, 80), (60, 90), (60, 100)]\n",
      "[(70, 80), (70, 90), (70, 100)]\n",
      "[(80, 90), (80, 100)]\n",
      "[(90, 100)]\n"
     ]
    }
   ],
   "source": [
    " # 方法二 不运行尝试简化代码但有问题， 结果是9列lists，怎么形成一个list？ append? join?\n",
    "start = 10; stop = 100;  step = 10;\n",
    "li = []\n",
    "for i in range(start, stop, step):\n",
    "    a = i\n",
    "    print([(a,a+n*step) for n in range(1, 10) if a+n*step<= 100])"
   ]
  },
  {
   "cell_type": "code",
   "execution_count": 38,
   "id": "d8ba44b8",
   "metadata": {},
   "outputs": [
    {
     "data": {
      "text/plain": [
       "{(10, 20): 0.01,\n",
       " (10, 30): 0.15,\n",
       " (10, 40): 0.87,\n",
       " (10, 50): 1.48,\n",
       " (10, 60): 0.33,\n",
       " (10, 70): 1.34,\n",
       " (10, 80): 0.23,\n",
       " (10, 90): 1.44,\n",
       " (10, 100): 0.58,\n",
       " (20, 30): 1.75,\n",
       " (20, 40): 1.35,\n",
       " (20, 50): 1.3,\n",
       " (20, 60): 0.82,\n",
       " (20, 70): 0.95,\n",
       " (20, 80): 0.85,\n",
       " (20, 90): 0.65,\n",
       " (20, 100): 1.77,\n",
       " (30, 40): 1.82,\n",
       " (30, 50): 0.12,\n",
       " (30, 60): 0.9,\n",
       " (30, 70): 1.88,\n",
       " (30, 80): 0.09,\n",
       " (30, 90): 1.34,\n",
       " (30, 100): 0.12,\n",
       " (40, 50): 0.8,\n",
       " (40, 60): 1.44,\n",
       " (40, 70): 0.37,\n",
       " (40, 80): 0.18,\n",
       " (40, 90): 1.78,\n",
       " (40, 100): 0.81,\n",
       " (50, 60): 1.16,\n",
       " (50, 70): 1.0,\n",
       " (50, 80): 1.27,\n",
       " (50, 90): 1.39,\n",
       " (50, 100): 1.11,\n",
       " (60, 70): 1.17,\n",
       " (60, 80): 0.23,\n",
       " (60, 90): 1.65,\n",
       " (60, 100): 0.1,\n",
       " (70, 80): 0.42,\n",
       " (70, 90): 0.28,\n",
       " (70, 100): 0.51,\n",
       " (80, 90): 1.22,\n",
       " (80, 100): 0.33,\n",
       " (90, 100): 0.23}"
      ]
     },
     "execution_count": 38,
     "metadata": {},
     "output_type": "execute_result"
    }
   ],
   "source": [
    "#2. \t根据生成的参数列表，利用随机数生成对应的收益率，封装成字典; 上接方法一\n",
    "import random as rm\n",
    "\n",
    "dict_var = {i:round(rm.random()*2, 2) for i in li}\n",
    "dict_var"
   ]
  },
  {
   "cell_type": "code",
   "execution_count": 39,
   "id": "6518b3f9",
   "metadata": {},
   "outputs": [
    {
     "name": "stdout",
     "output_type": "stream",
     "text": [
      "The best strategy is to use 30 as a short_term input; 70 as a long-term input; The profit is 1.88\n"
     ]
    }
   ],
   "source": [
    "#3.找出收益率最高的一组参数，设置为该股票异动平均线策略的最优参数\n",
    "profit = list(dict_var.values())\n",
    "# print(max(profit))\n",
    "max_p = max(profit)\n",
    "strategy =[k for k, v in dict_var.items() if v == max_p] \n",
    "# print(strategy)\n",
    "a, b = strategy[0]\n",
    "print(f'The best strategy is to use {a} as a short_term input; {b} as a long-term input; The profit is {max_p}')\n"
   ]
  },
  {
   "cell_type": "code",
   "execution_count": 40,
   "id": "bebdcd07",
   "metadata": {},
   "outputs": [
    {
     "name": "stdout",
     "output_type": "stream",
     "text": [
      "The best strategy is to use No3; The profit is 0.7\n"
     ]
    },
    {
     "data": {
      "text/plain": [
       "('No3', 0.7)"
      ]
     },
     "execution_count": 40,
     "metadata": {},
     "output_type": "execute_result"
    }
   ],
   "source": [
    "# 函数定义：已知历史回报率找最优策略 1. 策略已知，2。输入各自的历史profit  3.返回最好策略\n",
    "def best_strategy(**dict_var):\n",
    "    \n",
    "    profit = list(dict_var.values())\n",
    "    max_p = max(profit)\n",
    "    strategy =[k for k, v in dict_var.items() if v == max(profit)] \n",
    "    print(f'The best strategy is to use {strategy[0]}; The profit is {max_p}')\n",
    "    return strategy[0], max_p\n",
    "\n",
    "dict_var1 = {'No1':0.5, 'No2': 0.6, 'No3' : 0.7}\n",
    "best_strategy(**dict_var1)"
   ]
  }
 ],
 "metadata": {
  "kernelspec": {
   "display_name": "Python 3",
   "language": "python",
   "name": "python3"
  },
  "language_info": {
   "codemirror_mode": {
    "name": "ipython",
    "version": 3
   },
   "file_extension": ".py",
   "mimetype": "text/x-python",
   "name": "python",
   "nbconvert_exporter": "python",
   "pygments_lexer": "ipython3",
   "version": "3.8.8"
  }
 },
 "nbformat": 4,
 "nbformat_minor": 5
}
